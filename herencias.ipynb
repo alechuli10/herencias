{
 "cells": [
  {
   "cell_type": "code",
   "execution_count": 3,
   "id": "e8f7b6eb",
   "metadata": {},
   "outputs": [
    {
     "name": "stdout",
     "output_type": "stream",
     "text": [
      "A = X: 1; Y: 2\n",
      "A = X: 0; Y: 0\n"
     ]
    }
   ],
   "source": [
    "class Punto2D:\n",
    "    def __init__ (self, x, y):\n",
    "        self.x= x\n",
    "        self.y= y\n",
    "        \n",
    "    def traslacion (self, tx, ty):\n",
    "        self.x += tx\n",
    "        self.y += ty\n",
    "        \n",
    "    def __str__(self):\n",
    "        return \"X: \" + str(self.x) + \"; Y: \" + str(self.y)\n",
    "\n",
    "a = Punto2D(1, 2) \n",
    "print(\"A = {}\".format(a))\n",
    "a.traslacion(-1, -2) \n",
    "print(\"A = {}\".format(a))"
   ]
  },
  {
   "cell_type": "code",
   "execution_count": 5,
   "id": "f2b2aa61",
   "metadata": {},
   "outputs": [
    {
     "name": "stdout",
     "output_type": "stream",
     "text": [
      "C = X: 1; Y: 3; Z: -2\n"
     ]
    }
   ],
   "source": [
    "class Punto3D (Punto2D):\n",
    "    def __init__ (self, x, y, z):\n",
    "        Punto2D.__init__(self,x,y)\n",
    "        self.z= z\n",
    "    \n",
    "    def traslacion (self, tx, ty, tz):\n",
    "        Punto2D.traslacion(self, tx, ty)\n",
    "        self.z += tz\n",
    "        \n",
    "    def __str__(self):\n",
    "        return Punto2D.__str__(self) + \"; Z: \" + str(self.z)\n",
    "\n",
    "c = Punto3D(1,5,-3) \n",
    "c.traslacion(0, -2, 1) \n",
    "print(\"C = {}\".format(c)) \n",
    "        "
   ]
  },
  {
   "cell_type": "markdown",
   "id": "182593e7",
   "metadata": {},
   "source": [
    "a #llamada a base.A() que muestra el valor del atributo a\n",
    "a #llamada a derivada.A() que muestra el valor del atributo a, que es el mismo que el del padre\n",
    "\n",
    "b #llamada a base.B() que muestra el valor del atributo b\n",
    "bb\n",
    "bb #llamada a derivada.B() que modifica el valor del atributo b, llama a la función del padre que lo muestra por pantalla  y luego vuelve a mostrarlo\n",
    "c #llamada a base.C() que muestra el valor del atributo c\n",
    "cc #llamada a derivada.C() que muestra el valor del atributo c\n",
    "c #llamada a derivada.C() que muestra el valor del atributo c y este atributo ha cambiado por la asignación anterior"
   ]
  },
  {
   "cell_type": "code",
   "execution_count": 8,
   "id": "2809db7e",
   "metadata": {},
   "outputs": [
    {
     "name": "stdout",
     "output_type": "stream",
     "text": [
      "True True True\n",
      "1 2 3\n"
     ]
    }
   ],
   "source": [
    "class A:\n",
    "    def __init__ (self,a):\n",
    "        self.a= a\n",
    "        \n",
    "class B (A):\n",
    "    def __init__ (self,a,b):\n",
    "        A.__init__(self,a)\n",
    "        self.b= b\n",
    "        \n",
    "class C (A):\n",
    "    def __init__ (self,a,c):\n",
    "        A.__init__(self,a)\n",
    "        self.c= c\n",
    "        \n",
    "class D (B,C):\n",
    "    def __init__ (self,a,b,c):\n",
    "        B.__init__(self,a,b)\n",
    "        C.__init__(self,a,c)\n",
    "\n",
    "d = D(1, 2, 3) \n",
    "print(isinstance(d, A), isinstance(d, B), isinstance(d, C))\n",
    "print(d.a, d.b, d.c) "
   ]
  },
  {
   "cell_type": "code",
   "execution_count": 9,
   "id": "897d0545",
   "metadata": {},
   "outputs": [
    {
     "name": "stdout",
     "output_type": "stream",
     "text": [
      "4.5\n"
     ]
    }
   ],
   "source": [
    "class Pared:\n",
    "    def __init__ (self,orientacion):\n",
    "        self.orientacion= orientacion\n",
    "        self.ventanas= []\n",
    "    \n",
    "    def superficie_acristalada (self):\n",
    "        superficie= 0\n",
    "        for ventana in self.ventanas:\n",
    "            superficie += ventana.superficie\n",
    "        return superficie\n",
    "\n",
    "class Ventana:\n",
    "    def __init__ (self, pared, superficie):\n",
    "        self.superficie= superficie\n",
    "        pared.ventanas.append(self)\n",
    "        \n",
    "class Casa:\n",
    "    def __init__ (self, paredes):\n",
    "        self.paredes= paredes\n",
    "        \n",
    "    \n",
    "    def superficie_acristalada (self):\n",
    "        superficie= 0\n",
    "        for pared in self.paredes:\n",
    "            superficie += pared.superficie_acristalada()\n",
    "        return superficie\n",
    "    \n",
    "pared_norte = Pared(\"NORTE\") \n",
    "pared_oeste = Pared(\"OESTE\") \n",
    "pared_sur = Pared(\"SUR\") \n",
    "pared_este = Pared(\"ESTE\") \n",
    "# Instanciación de las ventanas \n",
    "ventana_norte = Ventana(pared_norte, 0.5) \n",
    "ventana_oeste = Ventana(pared_oeste, 1) \n",
    "ventana_sur = Ventana(pared_sur, 2) \n",
    "ventana_este = Ventana(pared_este, 1) \n",
    "# Instanciación de la casa con las 4 paredes \n",
    "casa = Casa([pared_norte, pared_oeste, pared_sur, pared_este]) \n",
    "print(casa.superficie_acristalada())"
   ]
  },
  {
   "cell_type": "code",
   "execution_count": 10,
   "id": "9db9d901",
   "metadata": {},
   "outputs": [
    {
     "name": "stdout",
     "output_type": "stream",
     "text": [
      "12.5\n"
     ]
    }
   ],
   "source": [
    "class ParedCortina (Pared, Ventana):\n",
    "    def __init__ (self,orientacion,superficie):\n",
    "        Pared.__init__(self,orientacion)\n",
    "        Ventana.__init__(self,self,superficie)\n",
    "        \n",
    "casa.paredes[2] = ParedCortina(\"SUR\", 10) \n",
    "print(casa.superficie_acristalada())"
   ]
  },
  {
   "cell_type": "code",
   "execution_count": 14,
   "id": "313d1d97",
   "metadata": {},
   "outputs": [
    {
     "name": "stdout",
     "output_type": "stream",
     "text": [
      "4.5\n"
     ]
    }
   ],
   "source": [
    "class Pared:\n",
    "    def __init__ (self,orientacion):\n",
    "        self.orientacion= orientacion\n",
    "        self.ventanas= []\n",
    "    \n",
    "    def superficie_acristalada (self):\n",
    "        superficie= 0\n",
    "        for ventana in self.ventanas:\n",
    "            superficie += ventana.superficie\n",
    "        return superficie\n",
    "\n",
    "class Ventana:\n",
    "    def __init__ (self, pared, superficie, proteccion):\n",
    "        if proteccion==None:\n",
    "            raise Exception(\"Protección obligatoria\")\n",
    "        self.superficie= superficie\n",
    "        pared.ventanas.append(self)\n",
    "        \n",
    "class Casa:\n",
    "    def __init__ (self, paredes):\n",
    "        self.paredes= paredes\n",
    "        \n",
    "    \n",
    "    def superficie_acristalada (self):\n",
    "        superficie= 0\n",
    "        for pared in self.paredes:\n",
    "            superficie += pared.superficie_acristalada()\n",
    "        return superficie\n",
    "pared_norte = Pared(\"NORTE\") \n",
    "pared_oeste = Pared(\"OESTE\") \n",
    "pared_sur = Pared(\"SUR\") \n",
    "pared_este = Pared(\"ESTE\") \n",
    "# Instanciación de las ventanas \n",
    "ventana_norte = Ventana(pared_norte, 0.5,\"sdf\") \n",
    "ventana_oeste = Ventana(pared_oeste, 1,\"Persiana\") \n",
    "ventana_sur = Ventana(pared_sur, 2, \"store\") \n",
    "ventana_este = Ventana(pared_este, 1, \"cortina\") \n",
    "# Instanciación de la casa con las 4 paredes \n",
    "casa = Casa([pared_norte, pared_oeste, pared_sur, pared_este]) \n",
    "print(casa.superficie_acristalada())"
   ]
  },
  {
   "cell_type": "code",
   "execution_count": null,
   "id": "29ae9391",
   "metadata": {},
   "outputs": [],
   "source": []
  }
 ],
 "metadata": {
  "kernelspec": {
   "display_name": "Python 3 (ipykernel)",
   "language": "python",
   "name": "python3"
  },
  "language_info": {
   "codemirror_mode": {
    "name": "ipython",
    "version": 3
   },
   "file_extension": ".py",
   "mimetype": "text/x-python",
   "name": "python",
   "nbconvert_exporter": "python",
   "pygments_lexer": "ipython3",
   "version": "3.9.7"
  }
 },
 "nbformat": 4,
 "nbformat_minor": 5
}
